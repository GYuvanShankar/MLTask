{
 "cells": [
  {
   "cell_type": "code",
   "execution_count": 61,
   "id": "85e3c2d2",
   "metadata": {},
   "outputs": [],
   "source": [
    "import pandas as pd\n",
    "from sklearn.ensemble import RandomForestClassifier\n",
    "from sklearn.svm import SVC\n",
    "from sklearn import svm\n",
    "from sklearn.neural_network import MLPClassifier\n",
    "from sklearn.metrics import confusion_matrix, classification_report\n",
    "from sklearn.preprocessing import StandardScaler, LabelEncoder\n",
    "from sklearn.model_selection import train_test_split"
   ]
  },
  {
   "cell_type": "code",
   "execution_count": 62,
   "id": "058d990e",
   "metadata": {},
   "outputs": [],
   "source": [
    "#Reading data from csv\n",
    "data=pd.read_csv('task2.csv')\n",
    "data1=data"
   ]
  },
  {
   "cell_type": "code",
   "execution_count": 63,
   "id": "baffb7db",
   "metadata": {},
   "outputs": [
    {
     "data": {
      "text/plain": [
       "ID                          0\n",
       "Segment type                0\n",
       "Segment Description         0\n",
       "Answer                      0\n",
       "Count                       0\n",
       "Percentage                  0\n",
       "It became a relationship    0\n",
       "dtype: int64"
      ]
     },
     "execution_count": 63,
     "metadata": {},
     "output_type": "execute_result"
    }
   ],
   "source": [
    "#Checking for Null Values\n",
    "data.isnull().sum()"
   ]
  },
  {
   "cell_type": "code",
   "execution_count": 64,
   "id": "07289cd5",
   "metadata": {},
   "outputs": [],
   "source": [
    "#Preprocessing of Data\n",
    "X_cat = data.copy()\n",
    "X_cat = data.select_dtypes(include=['object'])\n",
    "X_enc = X_cat.copy()\n",
    "X_enc = pd.get_dummies(X_enc, columns=['Segment type','Segment Description','Answer'])\n",
    "data1=data1.drop(['ID','Segment type','Segment Description','Answer'],axis=1)\n",
    "Finaldata=pd.concat([data1,X_enc],axis=1)"
   ]
  },
  {
   "cell_type": "code",
   "execution_count": 65,
   "id": "36a007ce",
   "metadata": {},
   "outputs": [],
   "source": [
    "#Seperating as dependant and independant variables\n",
    "X=Finaldata.drop('It became a relationship',axis=1)\n",
    "y=Finaldata['It became a relationship']"
   ]
  },
  {
   "cell_type": "code",
   "execution_count": 66,
   "id": "1c98f6fd",
   "metadata": {},
   "outputs": [],
   "source": [
    "#Spliiting data for training and testing\n",
    "X_train,X_test,y_train,y_test=train_test_split(X,y,test_size=0.2,random_state=12)"
   ]
  },
  {
   "cell_type": "code",
   "execution_count": 67,
   "id": "55d93e57",
   "metadata": {},
   "outputs": [],
   "source": [
    "#Scaling down values for optimisation\n",
    "sc=StandardScaler()\n",
    "X_train=sc.fit_transform(X_train)\n",
    "X_test=sc.transform(X_test)\n"
   ]
  },
  {
   "cell_type": "code",
   "execution_count": 68,
   "id": "a25c2222",
   "metadata": {},
   "outputs": [],
   "source": [
    "#Starting Random Forest Classifier\n",
    "rfc=RandomForestClassifier(n_estimators=300)\n",
    "rfc.fit(X_train,y_train)\n",
    "pred_rfc=rfc.predict(X_test)"
   ]
  },
  {
   "cell_type": "code",
   "execution_count": 69,
   "id": "10a314c3",
   "metadata": {},
   "outputs": [
    {
     "name": "stdout",
     "output_type": "stream",
     "text": [
      "              precision    recall  f1-score   support\n",
      "\n",
      "           0       0.91      0.96      0.93       246\n",
      "           1       0.91      0.84      0.87       134\n",
      "\n",
      "    accuracy                           0.91       380\n",
      "   macro avg       0.91      0.90      0.90       380\n",
      "weighted avg       0.91      0.91      0.91       380\n",
      "\n"
     ]
    }
   ],
   "source": [
    "#Results Time!!!\n",
    "print(classification_report(y_test, pred_rfc))"
   ]
  },
  {
   "cell_type": "code",
   "execution_count": 70,
   "id": "96bd5370",
   "metadata": {},
   "outputs": [],
   "source": [
    "#90 percent accuracy is pretty good. We can change n_estimators(hyperparameters) to get different values"
   ]
  },
  {
   "cell_type": "code",
   "execution_count": 71,
   "id": "ea4f7e04",
   "metadata": {},
   "outputs": [],
   "source": [
    "#Starting SVM Classifier\n",
    "clf=svm.SVC()\n",
    "clf.fit(X_train,y_train)\n",
    "pred_clf=clf.predict(X_test)"
   ]
  },
  {
   "cell_type": "code",
   "execution_count": 72,
   "id": "0db77696",
   "metadata": {},
   "outputs": [
    {
     "name": "stdout",
     "output_type": "stream",
     "text": [
      "              precision    recall  f1-score   support\n",
      "\n",
      "           0       0.88      0.80      0.84       246\n",
      "           1       0.69      0.79      0.74       134\n",
      "\n",
      "    accuracy                           0.80       380\n",
      "   macro avg       0.78      0.80      0.79       380\n",
      "weighted avg       0.81      0.80      0.80       380\n",
      "\n"
     ]
    }
   ],
   "source": [
    "#Results Time!!!\n",
    "print(classification_report(y_test,pred_clf))"
   ]
  },
  {
   "cell_type": "code",
   "execution_count": 73,
   "id": "e12da055",
   "metadata": {},
   "outputs": [],
   "source": [
    "#Starting neural network\n",
    "mlpc=MLPClassifier(hidden_layer_sizes=(11,11,11),max_iter=500)\n",
    "mlpc.fit(X_train,y_train)\n",
    "pred_mlpc=mlpc.predict(X_test)"
   ]
  },
  {
   "cell_type": "code",
   "execution_count": 74,
   "id": "52d2cd5f",
   "metadata": {},
   "outputs": [
    {
     "name": "stdout",
     "output_type": "stream",
     "text": [
      "              precision    recall  f1-score   support\n",
      "\n",
      "           0       0.94      0.87      0.90       246\n",
      "           1       0.79      0.90      0.84       134\n",
      "\n",
      "    accuracy                           0.88       380\n",
      "   macro avg       0.87      0.89      0.87       380\n",
      "weighted avg       0.89      0.88      0.88       380\n",
      "\n"
     ]
    }
   ],
   "source": [
    "#Results time!!!\n",
    "print(classification_report(y_test,pred_mlpc))"
   ]
  },
  {
   "cell_type": "code",
   "execution_count": null,
   "id": "a44b5d77",
   "metadata": {},
   "outputs": [],
   "source": [
    "#We can change values of layer sizes and max iterations for different values"
   ]
  }
 ],
 "metadata": {
  "kernelspec": {
   "display_name": "Python 3",
   "language": "python",
   "name": "python3"
  },
  "language_info": {
   "codemirror_mode": {
    "name": "ipython",
    "version": 3
   },
   "file_extension": ".py",
   "mimetype": "text/x-python",
   "name": "python",
   "nbconvert_exporter": "python",
   "pygments_lexer": "ipython3",
   "version": "3.8.8"
  }
 },
 "nbformat": 4,
 "nbformat_minor": 5
}
